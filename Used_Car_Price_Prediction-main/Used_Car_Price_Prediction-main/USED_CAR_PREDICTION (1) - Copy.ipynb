{
 "cells": [
  {
   "cell_type": "markdown",
   "metadata": {
    "id": "LgV1qjsG5TJV"
   },
   "source": [
    "#**Predict Price for Used Cars**"
   ]
  },
  {
   "cell_type": "code",
   "execution_count": null,
   "metadata": {},
   "outputs": [],
   "source": [
    "pip install scipy"
   ]
  },
  {
   "cell_type": "code",
   "execution_count": null,
   "metadata": {},
   "outputs": [],
   "source": [
    "pip install seaborn"
   ]
  },
  {
   "cell_type": "code",
   "execution_count": null,
   "metadata": {},
   "outputs": [],
   "source": [
    "pip install --upgrade pip"
   ]
  },
  {
   "cell_type": "code",
   "execution_count": null,
   "metadata": {},
   "outputs": [],
   "source": [
    "pip install pandas"
   ]
  },
  {
   "cell_type": "code",
   "execution_count": null,
   "metadata": {},
   "outputs": [],
   "source": [
    "pip install -U scikit-learn"
   ]
  },
  {
   "cell_type": "code",
   "execution_count": null,
   "metadata": {},
   "outputs": [],
   "source": [
    "pip install statsmodels"
   ]
  },
  {
   "cell_type": "code",
   "execution_count": null,
   "metadata": {
    "colab": {
     "base_uri": "https://localhost:8080/"
    },
    "id": "dtcPd52_4hKm",
    "outputId": "f0e346a0-5f12-4f6c-8bc6-c41c4c629da0"
   },
   "outputs": [],
   "source": [
    "### IMPORT: ------------------------------------\n",
    "import scipy.stats as stats \n",
    "import pandas as pd\n",
    "import numpy as np\n",
    "import matplotlib.pyplot as plt\n",
    "%matplotlib inline\n",
    "import seaborn as sns\n",
    "import warnings\n",
    "warnings.filterwarnings('ignore') # To supress warnings\n",
    " # set the background for the graphs\n",
    "from scipy.stats import skew\n",
    "plt.style.use('ggplot')\n",
    "import missingno as msno # to get visualization on missing values\n",
    "from sklearn.model_selection import train_test_split # Sklearn package's randomized data splitting function\n",
    "from sklearn.preprocessing import StandardScaler\n",
    "from sklearn.preprocessing import OneHotEncoder\n",
    "import math\n",
    "from sklearn.linear_model import LinearRegression\n",
    "from sklearn.metrics import mean_absolute_error, mean_squared_error, r2_score\n",
    "pd.set_option('display.float_format', lambda x: '%.3f' % x)\n",
    "pd.set_option('display.max_rows', 300)\n",
    "pd.set_option('display.max_colwidth',400)\n",
    "pd.set_option('display.float_format', lambda x: '%.5f' % x) # To supress numerical display in scientific notations\n",
    "import statsmodels.api as sm\n",
    "print(\"Load Libraries- Done\")"
   ]
  },
  {
   "cell_type": "markdown",
   "metadata": {
    "id": "gTWuNseWmoSg"
   },
   "source": [
    "#Read and Understand data"
   ]
  },
  {
   "cell_type": "code",
   "execution_count": null,
   "metadata": {
    "colab": {
     "base_uri": "https://localhost:8080/"
    },
    "id": "iKJ83C954wCw",
    "outputId": "1ef9dc66-5960-4dd4-8aa1-f59757913b50"
   },
   "outputs": [],
   "source": [
    "#Reading the csv file  used car data.csv \n",
    "df=pd.read_csv(\"C:\\\\Users\\\\bodda\\\\OneDrive\\\\APDS\\\\APDS Assignments\\\\APDS Group Project\\\\used_car_data.csv\")\n",
    "cars=df.copy()\n",
    "print(f'There are {cars.shape[0]} rows and {cars.shape[1]} columns') # fstring "
   ]
  },
  {
   "cell_type": "code",
   "execution_count": null,
   "metadata": {
    "colab": {
     "base_uri": "https://localhost:8080/",
     "height": 354
    },
    "id": "RBKvgoFX5TDg",
    "outputId": "69fbcc09-98be-4ac1-b111-0d2201fd77a5"
   },
   "outputs": [],
   "source": [
    "# inspect data, print top 5 \n",
    "cars.head(5)"
   ]
  },
  {
   "cell_type": "code",
   "execution_count": null,
   "metadata": {
    "colab": {
     "base_uri": "https://localhost:8080/",
     "height": 354
    },
    "id": "cycxf0Mv5Wnr",
    "outputId": "5bd54d64-a808-43a5-cc85-03ff47a47b06"
   },
   "outputs": [],
   "source": [
    "# bottom 5 rows:\n",
    "cars.tail(5)"
   ]
  },
  {
   "cell_type": "code",
   "execution_count": null,
   "metadata": {
    "colab": {
     "base_uri": "https://localhost:8080/"
    },
    "id": "urS7BE0N5aSp",
    "outputId": "27222fcd-8e9e-4200-c26e-3a1fa1e7f846"
   },
   "outputs": [],
   "source": [
    "#get the size of dataframe\n",
    "print (\"Rows     : \" , cars.shape[0])  #get number of rows/observations\n",
    "print (\"Columns  : \" , cars.shape[1]) #get number of columns\n",
    "print (\"#\"*40,\"\\n\",\"Features : \\n\\n\", cars.columns.tolist()) #get name of columns/features\n",
    "print (\"#\"*40,\"\\nMissing values :\\n\\n\", cars.isnull().sum().sort_values(ascending=False))\n",
    "print( \"#\"*40,\"\\nPercent of missing :\\n\\n\", round(cars.isna().sum() / cars.isna().count() * 100, 2)) # looking at columns with most Missing Values\n",
    "print (\"#\"*40,\"\\nUnique values :  \\n\\n\", cars.nunique())  #  count of unique values"
   ]
  },
  {
   "cell_type": "code",
   "execution_count": null,
   "metadata": {
    "colab": {
     "base_uri": "https://localhost:8080/"
    },
    "id": "bCXpIrmn5da7",
    "outputId": "a91e15c2-b597-4253-932d-0be42465a113"
   },
   "outputs": [],
   "source": [
    "cars.info()"
   ]
  },
  {
   "cell_type": "code",
   "execution_count": null,
   "metadata": {
    "colab": {
     "base_uri": "https://localhost:8080/",
     "height": 838
    },
    "id": "1trayZKf5e_P",
    "outputId": "0c2d9f05-be0e-4823-ab2f-50af92fa8b53"
   },
   "outputs": [],
   "source": [
    "#Visualize missing values\n",
    "msno.bar(cars)"
   ]
  },
  {
   "cell_type": "markdown",
   "metadata": {
    "id": "cZILfvxDnJRA"
   },
   "source": [
    "**Observations**\n",
    "\n",
    "This preview shows that some columns potentially have a lot of missingness so we'll want to make sure to look into that later.\n",
    "Market Category has 3742 missing values. 31 % values are missing\n",
    "\n",
    "Number of Doors has only 6 values missing. can be one of key factor in deciding price.\n",
    "\n",
    "Engine Cylinders and Engine HP has 30 and 31 missing values respectively.\n",
    "\n",
    "Mileage is divided into types city mpg and Highway MPG\n",
    "\n",
    "Mileage,Power,Engine,MSRP we know are quantitative variables but are of object dtype here and needs to to converted to numeric."
   ]
  },
  {
   "cell_type": "code",
   "execution_count": null,
   "metadata": {
    "colab": {
     "base_uri": "https://localhost:8080/"
    },
    "id": "0nLUG0VE6MIq",
    "outputId": "349316ed-bf95-48f7-8d87-dd9ce861fb3e"
   },
   "outputs": [],
   "source": [
    "# Making a list of all categorical variables\n",
    "cat_col = [ 'EngineFuelType', 'MarketCategory', 'VehicleStyle', 'VehicleSize','EngineHP','MSRP']\n",
    "\n",
    "# Printing number of count of each unique value in each column\n",
    "for column in cat_col:\n",
    "    print(cars[column].value_counts())\n",
    "    print(\"#\" * 40)"
   ]
  },
  {
   "cell_type": "markdown",
   "metadata": {
    "id": "BONKHPAFpxNc"
   },
   "source": [
    "Observations\n",
    "\n",
    "1,The most common engine fuel type is regular unleaded, with 7172 occurrences, followed by premium unleaded (required) with 2009 occurrences, and premium unleaded (recommended) with 1523 occurrences.\n",
    "\n",
    "2,The most common market category is crossover with 1110 occurrences, followed by flex fuel with 872 occurrences, and luxury with 855 occurrences.\n",
    "\n",
    "3,The most common vehicle style is sedan with 3048 occurrences, followed by 4dr SUV with 2488 occurrences, and coupe with 1211 occurrences.\n",
    "\n",
    "4,The most common vehicle size is compact with 4764 occurrences, followed by midsize with 4373 occurrences, and large with 2777 occurrences.\n",
    "\n",
    "5,The engine horsepower ranges from 55 to 1001, with the most common horsepower being 200 (456 occurrences), followed by 170 (351 occurrences) and 210 (320 occurrences)."
   ]
  },
  {
   "cell_type": "markdown",
   "metadata": {
    "id": "Ws6X7Td-pxTa"
   },
   "source": [
    "#**Data Preprocessing**\n",
    "\n",
    "Processing highway MPG, city mpg, MSRP columns\n",
    "\n",
    "Datatype for highway MPG, city mpg, MSRP are object because of unit assigned ,so striping units."
   ]
  },
  {
   "cell_type": "code",
   "execution_count": null,
   "metadata": {
    "colab": {
     "base_uri": "https://localhost:8080/",
     "height": 424
    },
    "id": "aQVwL04nHMHl",
    "outputId": "02f70313-cedf-45e4-d8db-31ba5f986a8c"
   },
   "outputs": [],
   "source": [
    "#np.random.seed(9)\n",
    "cars[['highwayMPG','citympg','MSRP']]"
   ]
  },
  {
   "cell_type": "code",
   "execution_count": null,
   "metadata": {
    "colab": {
     "base_uri": "https://localhost:8080/",
     "height": 658
    },
    "id": "GEE2G-euKXa0",
    "outputId": "11d4438b-4ee8-48e9-93f6-1d028c52a0b0"
   },
   "outputs": [],
   "source": [
    "typeoffuel=['flex-fuel (unleaded/E85)',\n",
    "'diesel',\n",
    "'electric',\n",
    "'flex-fuel (premium unleaded required/E85)','flex-fuel (premium unleaded recommended/E85)',\n",
    "'flex-fuel (unleaded/natural gas)','natural gas']\n",
    "cars.loc[cars['EngineFuelType'].isin(typeoffuel)]"
   ]
  },
  {
   "cell_type": "code",
   "execution_count": null,
   "metadata": {
    "colab": {
     "base_uri": "https://localhost:8080/"
    },
    "id": "WyCHDQ4WWLt_",
    "outputId": "cf1507da-b8ca-477d-ebb2-ec3117e94de8"
   },
   "outputs": [],
   "source": [
    "cars.info()"
   ]
  },
  {
   "cell_type": "code",
   "execution_count": null,
   "metadata": {
    "id": "rU0YcnIaDB-S"
   },
   "outputs": [],
   "source": [
    "# Define the columns to round\n",
    "cols_to_round = ['EngineHP', 'EngineCylinders', 'highwayMPG', 'citympg', 'MSRP']\n",
    "\n",
    "# Round the columns to one decimal place\n",
    "df[cols_to_round] = df[cols_to_round].round(1)"
   ]
  },
  {
   "cell_type": "code",
   "execution_count": null,
   "metadata": {
    "colab": {
     "base_uri": "https://localhost:8080/",
     "height": 354
    },
    "id": "UXjdSby2mnkn",
    "outputId": "87a442b7-0db8-4270-b164-d12e86c0f994"
   },
   "outputs": [],
   "source": [
    "cars.head()"
   ]
  },
  {
   "cell_type": "code",
   "execution_count": null,
   "metadata": {
    "id": "6q-w-oP96VBm"
   },
   "outputs": [],
   "source": [
    "# Define the columns to round\n",
    "cols_to_round = ['EngineHP', 'EngineCylinders', 'highwayMPG', 'citympg', 'MSRP']\n",
    "\n",
    "# Round the columns to one decimal place\n",
    "cars[cols_to_round] = cars[cols_to_round].round(1)"
   ]
  },
  {
   "cell_type": "code",
   "execution_count": null,
   "metadata": {
    "colab": {
     "base_uri": "https://localhost:8080/",
     "height": 354
    },
    "id": "MfFxct7IB6_Z",
    "outputId": "8f74c065-e3f4-4d50-abfd-d2f91c7e6a49"
   },
   "outputs": [],
   "source": [
    "cars.head()"
   ]
  },
  {
   "cell_type": "code",
   "execution_count": null,
   "metadata": {
    "colab": {
     "base_uri": "https://localhost:8080/",
     "height": 354
    },
    "id": "mRszmepT6Z59",
    "outputId": "fbe2ffe5-ab2d-43fa-fb45-c48093f16d53"
   },
   "outputs": [],
   "source": [
    "cars.head()"
   ]
  },
  {
   "cell_type": "markdown",
   "metadata": {
    "id": "7tlh4qUj6WuS"
   },
   "source": [
    "#**Feature Enginering** \n",
    "\n"
   ]
  },
  {
   "cell_type": "markdown",
   "metadata": {
    "id": "ToL2Dc0g6XTz"
   },
   "source": [
    "\n",
    "converting datatype"
   ]
  },
  {
   "cell_type": "code",
   "execution_count": null,
   "metadata": {
    "id": "lVIwUEM3rEwH"
   },
   "outputs": [],
   "source": [
    "# Convert object data types to category data types\n",
    "cars[\"EngineFuelType\"] = pd.Categorical(cars[\"EngineFuelType\"])\n",
    "cars[\"MarketCategory\"] = pd.Categorical(cars[\"MarketCategory\"])\n",
    "cars[\"VehicleStyle\"] = pd.Categorical(cars[\"VehicleStyle\"])\n",
    "\n",
    "# Convert data types for \"Popularity\", \"Number of Doors\", and \"Vehicle Size\"\n",
    "cars[\"Popularity\"] = cars[\"Popularity\"].astype(float)\n",
    "cars[\"NumberofDoors\"] = cars[\"NumberofDoors\"].astype(float)\n",
    "cars[\"VehicleSize\"] = cars[\"VehicleSize\"].map({'Compact': 1, 'Midsize': 2, 'Large': 3}).astype(float)"
   ]
  },
  {
   "cell_type": "code",
   "execution_count": null,
   "metadata": {
    "colab": {
     "base_uri": "https://localhost:8080/"
    },
    "id": "eQGAzMCUoL5E",
    "outputId": "1ca65fa4-c3d4-4f33-a003-b2fb330fac98"
   },
   "outputs": [],
   "source": [
    "cars.info()"
   ]
  },
  {
   "cell_type": "code",
   "execution_count": null,
   "metadata": {
    "colab": {
     "base_uri": "https://localhost:8080/",
     "height": 332
    },
    "id": "rZ8w-KWIolqq",
    "outputId": "a4256ff3-3a33-40f8-d6c7-3f8366cca3f9"
   },
   "outputs": [],
   "source": [
    "cars.describe().T"
   ]
  },
  {
   "cell_type": "markdown",
   "metadata": {
    "id": "3t_e3CKd7338"
   },
   "source": [
    "**Processing Years to Derive Age of car**\n",
    "\n",
    "Since year has 2014, 1996 etc. But this will not help to understand how old cars is and its effect on price. so creating two new columns current year and Age . Current year would be 2023 and Age column would be Ageofcar= currentyear-year. And then drop currentyear columns"
   ]
  },
  {
   "cell_type": "code",
   "execution_count": null,
   "metadata": {
    "colab": {
     "base_uri": "https://localhost:8080/",
     "height": 354
    },
    "id": "pRVy2ahRowJa",
    "outputId": "6cbcb678-6d06-4a35-cf49-b77cdaa93dd1"
   },
   "outputs": [],
   "source": [
    "cars['Current_year']=2023\n",
    "cars['Ageofcar']=cars['Current_year']-cars['Year']\n",
    "cars.drop('Current_year',axis=1,inplace=True)\n",
    "cars.head()"
   ]
  },
  {
   "cell_type": "markdown",
   "metadata": {
    "id": "NTHiaVJf8Tv9"
   },
   "source": [
    "**Processing Name column**\n",
    "\n",
    "Brands do play an important role in Car selection and Prices. So extracting brand names from the Name."
   ]
  },
  {
   "cell_type": "code",
   "execution_count": null,
   "metadata": {
    "id": "Z42JWhqGp01K"
   },
   "outputs": [],
   "source": [
    "# Dropping rows with null values in the \"Model\" column\n",
    "cars = cars.dropna(subset=['Model'])"
   ]
  },
  {
   "cell_type": "code",
   "execution_count": null,
   "metadata": {
    "colab": {
     "base_uri": "https://localhost:8080/"
    },
    "id": "FgsK6sTotlhD",
    "outputId": "c369e223-023c-4fb0-e0e1-820e6f091b13"
   },
   "outputs": [],
   "source": [
    "# Define the categorical columns\n",
    "cat_cols = [\"Make\"]\n",
    "\n",
    "# Loop through each categorical column\n",
    "for column in cat_cols:\n",
    "    # Count the values in the column and sort them in ascending order\n",
    "    value_counts = cars[column].value_counts().sort_index()\n",
    "    # Print the value counts\n",
    "    print(value_counts)\n",
    "    print(\"#\" * 40)"
   ]
  },
  {
   "cell_type": "code",
   "execution_count": null,
   "metadata": {
    "colab": {
     "base_uri": "https://localhost:8080/"
    },
    "id": "HhDwGemSu9yL",
    "outputId": "eb219481-60c9-4338-ed65-a4741e7b08ac"
   },
   "outputs": [],
   "source": [
    "cars.info()"
   ]
  },
  {
   "cell_type": "code",
   "execution_count": null,
   "metadata": {
    "colab": {
     "base_uri": "https://localhost:8080/"
    },
    "id": "OmzESqG2vDID",
    "outputId": "523dd38b-2b5c-4cf4-8adf-37ee2104eb35"
   },
   "outputs": [],
   "source": [
    "cars.Make.nunique()"
   ]
  },
  {
   "cell_type": "code",
   "execution_count": null,
   "metadata": {
    "colab": {
     "base_uri": "https://localhost:8080/"
    },
    "id": "rypdb57HvWq0",
    "outputId": "e9c55cac-8abe-406d-a2f8-24fca23f7a40"
   },
   "outputs": [],
   "source": [
    "cars.groupby(cars.Make).size().sort_values(ascending =False)"
   ]
  },
  {
   "cell_type": "markdown",
   "metadata": {
    "id": "VMQWaqkw9qCe"
   },
   "source": [
    "There are 48 unique Brands in the dataset.Chevrolet brand is most available for purchase/Sold followed by Ford."
   ]
  },
  {
   "cell_type": "code",
   "execution_count": null,
   "metadata": {
    "colab": {
     "base_uri": "https://localhost:8080/"
    },
    "id": "pt-lb_IRvfEg",
    "outputId": "c6704727-5d4f-414c-b190-aad39dd74c85"
   },
   "outputs": [],
   "source": [
    "cars.Model.isnull().sum()"
   ]
  },
  {
   "cell_type": "code",
   "execution_count": null,
   "metadata": {
    "colab": {
     "base_uri": "https://localhost:8080/"
    },
    "id": "joyjp-9FvypY",
    "outputId": "d802aaf8-6f86-48ef-dc33-3a4c362bf6d0"
   },
   "outputs": [],
   "source": [
    "cars.Model.nunique()"
   ]
  },
  {
   "cell_type": "markdown",
   "metadata": {
    "id": "sSJ_87kR-P4v"
   },
   "source": []
  },
  {
   "cell_type": "code",
   "execution_count": null,
   "metadata": {
    "colab": {
     "base_uri": "https://localhost:8080/"
    },
    "id": "k8OhpGG4v1la",
    "outputId": "0ad4b21f-0fb5-4c1c-ae55-d96c0afd7ef7"
   },
   "outputs": [],
   "source": [
    "cars.groupby('Model')['Model'].size().nlargest(30)"
   ]
  },
  {
   "cell_type": "markdown",
   "metadata": {
    "id": "XasxfMYF-5aI"
   },
   "source": [
    "There are 915 unique models and Silverado 1500 is most popular Model.\n",
    "\n"
   ]
  },
  {
   "cell_type": "code",
   "execution_count": null,
   "metadata": {
    "colab": {
     "base_uri": "https://localhost:8080/"
    },
    "id": "xDVWi-EBv7Gt",
    "outputId": "9ce6d535-d200-4419-a712-20dd8fe058fe"
   },
   "outputs": [],
   "source": [
    "# Get the size of the dataframe\n",
    "rows = cars.shape[0]\n",
    "columns = cars.shape[1]\n",
    "features = cars.columns.tolist()\n",
    "\n",
    "# Print the number of rows, columns, and features\n",
    "print(\"Rows     : \", rows)\n",
    "print(\"Columns  : \", columns)\n",
    "print(\"#\" * 40, \"\\n\", \"Features : \\n\\n\", features)\n",
    "\n",
    "# Print the missing values and percent of missing values for each column\n",
    "missing_values = cars.isnull().sum().sort_values(ascending=False)\n",
    "percent_missing = round(cars.isna().sum() / cars.isna().count() * 100, 2)\n",
    "print(\"#\" * 40, \"\\nMissing values :\\n\\n\", missing_values)\n",
    "print(\"#\" * 40, \"\\nPercent of missing :\\n\\n\", percent_missing)\n",
    "\n",
    "# Print the count of unique values for each column\n",
    "unique_values = cars.nunique()\n",
    "print(\"#\" * 40, \"\\nUnique values :\\n\\n\", unique_values)"
   ]
  },
  {
   "cell_type": "markdown",
   "metadata": {
    "id": "OeIwSlan-30v"
   },
   "source": [
    "#**EDA**"
   ]
  },
  {
   "cell_type": "code",
   "execution_count": null,
   "metadata": {
    "colab": {
     "base_uri": "https://localhost:8080/"
    },
    "id": "r2CUpBYtxoOK",
    "outputId": "56e2d73f-b45e-4e8d-87c7-ffe59eb7aef9"
   },
   "outputs": [],
   "source": [
    "cars.info()"
   ]
  },
  {
   "cell_type": "code",
   "execution_count": null,
   "metadata": {
    "colab": {
     "base_uri": "https://localhost:8080/",
     "height": 300
    },
    "id": "4kiVpVDnxqSe",
    "outputId": "5c551848-0b1a-4e2c-a662-8b984441a24d"
   },
   "outputs": [],
   "source": [
    "cars.describe()"
   ]
  },
  {
   "cell_type": "markdown",
   "metadata": {
    "id": "zpOswsQg_Nh8"
   },
   "source": [
    "**Observations**\n",
    "\n",
    "1,Year ranges from 1990- 2017 . Age of cars 6 year old to 33 years old\n",
    "\n",
    "2,In city mpg and Highway MPG the maximum MPG is very high, and seems to be outlier. Need to analyze further.\n",
    "\n",
    "\n",
    "3,MSRP 2065902 is too much for a used car. Seems to be an outlier."
   ]
  },
  {
   "cell_type": "code",
   "execution_count": null,
   "metadata": {
    "colab": {
     "base_uri": "https://localhost:8080/",
     "height": 847
    },
    "id": "JQs9zWVLxyYL",
    "outputId": "724540f2-f73e-4ff7-dea0-b0d4f6f80b01"
   },
   "outputs": [],
   "source": [
    "plt.style.use('ggplot')\n",
    "#select all quantitative columns for checking the spread\n",
    "numeric_columns = cars.select_dtypes(include=np.number).columns.tolist()\n",
    "plt.figure(figsize=(20,25))\n",
    "\n",
    "for i, variable in enumerate(numeric_columns):\n",
    "                     plt.subplot(10,3,i+1)\n",
    "                       \n",
    "                     sns.distplot(cars[variable],kde=False,color='blue')\n",
    "                     plt.tight_layout()\n",
    "                     plt.title(variable)"
   ]
  },
  {
   "cell_type": "markdown",
   "metadata": {
    "id": "HUgAdA5sLKuK"
   },
   "source": [
    "**Observations**\n",
    "\n",
    "\n",
    "1,Year is left skewed and has outilers on lower side.This column can be dropped \n",
    "\n",
    "2,Engine HP, Engine Cylinders and Vehicle Size is right skewed. \n",
    "\n",
    "3,highway MPG and\tcity mpg is almost Normally distrubuted. Has few outliers on upper and lowerside. need to check further.\n",
    "\n",
    "4,Age of car is right skewed."
   ]
  },
  {
   "cell_type": "code",
   "execution_count": null,
   "metadata": {
    "colab": {
     "base_uri": "https://localhost:8080/",
     "height": 1000
    },
    "id": "0OHZpKrSx4ci",
    "outputId": "074dd307-bae9-48e0-df4b-990f50fdb333"
   },
   "outputs": [],
   "source": [
    "cat_columns=['Make','Model','EngineFuelType','TransmissionType',\t'Driven_Wheels','MarketCategory','VehicleSize',\t'VehicleStyle'] #cars.select_dtypes(exclude=np.number).columns.tolist()\n",
    "\n",
    "plt.figure(figsize=(15,21))\n",
    "\n",
    "for i, variable in enumerate(cat_columns):\n",
    "                     plt.subplot(4,2,i+1)\n",
    "                     order = cars[variable].value_counts(ascending=False).index    \n",
    "                     ax=sns.countplot(x=cars[variable], data=cars , order=order ,palette='viridis')\n",
    "                     for p in ax.patches:\n",
    "                           percentage = '{:.1f}%'.format(100 * p.get_height()/len(cars[variable]))\n",
    "                           x = p.get_x() + p.get_width() / 2 - 0.05\n",
    "                           y = p.get_y() + p.get_height()\n",
    "                           plt.annotate(percentage, (x, y),ha='center')\n",
    "                     plt.xticks(rotation=90)\n",
    "                     plt.tight_layout()\n",
    "                     plt.title(variable)"
   ]
  },
  {
   "cell_type": "code",
   "execution_count": null,
   "metadata": {
    "colab": {
     "base_uri": "https://localhost:8080/",
     "height": 1000
    },
    "id": "JndpFiR00eT6",
    "outputId": "ca36bf91-3c46-4bd5-97e9-48cd835348c3"
   },
   "outputs": [],
   "source": [
    "# Define the categorical columns\n",
    "cat_columns = ['Make', 'Model', 'Engine Fuel Type', 'Transmission Type', 'Driven_Wheels', 'Market Category','Vehicle Size','Vehicle Style']\n",
    "\n",
    "# Create a subplot figure with custom size\n",
    "fig, axes = plt.subplots(nrows=4, ncols=2, figsize=(18, 30))\n",
    "\n",
    "# Loop through each categorical variable and create a countplot\n",
    "for i, variable in enumerate(cat_columns):\n",
    "    # Calculate the order of the categories based on their counts and select top 10\n",
    "    order = cars[variable].value_counts(ascending=False)[:10].index\n",
    "    # Create a countplot\n",
    "    ax = sns.countplot(x=variable, data=cars, order=order, palette='viridis', ax=axes[i//2,i%2])\n",
    "    # Add percentage annotations to the bars\n",
    "    for p in ax.patches:\n",
    "        percentage = '{:.1f}%'.format(100 * p.get_height()/len(cars[variable]))\n",
    "        x = p.get_x() + p.get_width() / 2 - 0.05\n",
    "        y = p.get_y() + p.get_height()\n",
    "        ax.annotate(percentage, (x, y), ha='center')\n",
    "    # Set the x-axis label rotation and title\n",
    "    ax.set_xticklabels(ax.get_xticklabels(), rotation=90)\n",
    "    ax.set_xlabel('')\n",
    "    ax.set_title(variable)\n"
   ]
  },
  {
   "cell_type": "markdown",
   "metadata": {
    "id": "LZh-D9njLicA"
   },
   "source": [
    "**Observations**\n",
    "\n",
    "\n",
    "\n",
    "**Car Profile**\n",
    "\n",
    "\n",
    "~69 % cars available for sell have Automatic Transmission.\n",
    "\n",
    "~60 % cars use regular unleaded Engine Fuel Type.\n",
    "\n",
    "~16% of car available for sale are from Chevrolet & Ford brands.\n",
    "\n",
    "~40% of car being sold/avialable for purchase have front wheel drive as Driven wheels.\n",
    "\n",
    "Of all the types of cars available for purchase, sedans have the highest number of models. Passenger minivans have the fewest.\n",
    "\n",
    "\n",
    "Car being sold/available for purchase are in 6 - 33 years old"
   ]
  },
  {
   "cell_type": "code",
   "execution_count": null,
   "metadata": {
    "colab": {
     "base_uri": "https://localhost:8080/",
     "height": 1000
    },
    "id": "IDRrS96F0vbs",
    "outputId": "a7e36ae0-58b0-4865-de85-85749408a465"
   },
   "outputs": [],
   "source": [
    "numeric_columns = cars.select_dtypes(include=np.number).columns.tolist()\n",
    "\n",
    "plt.figure(figsize=(13,17))\n",
    "\n",
    "for i, variable in enumerate(numeric_columns):\n",
    "    plt.subplot(5,2,i+1)\n",
    "    sns.scatterplot(x=cars[variable], y=cars['MSRP'])\n",
    "    plt.title('MSRP vs '+ variable)\n",
    "    plt.tight_layout()"
   ]
  },
  {
   "cell_type": "markdown",
   "metadata": {
    "id": "WPUKwqaeQNYO"
   },
   "source": [
    "#**Handling missing values**"
   ]
  },
  {
   "cell_type": "code",
   "execution_count": null,
   "metadata": {
    "colab": {
     "base_uri": "https://localhost:8080/"
    },
    "id": "8f4EDPfa1wqC",
    "outputId": "f76ee55d-f5b0-4bd3-a844-8ab5650d6a5e"
   },
   "outputs": [],
   "source": [
    "cars.isnull().sum()"
   ]
  },
  {
   "cell_type": "markdown",
   "metadata": {
    "id": "O2YEZ_HJQUmX"
   },
   "source": [
    "**Calculating missing values in each row**"
   ]
  },
  {
   "cell_type": "code",
   "execution_count": null,
   "metadata": {
    "colab": {
     "base_uri": "https://localhost:8080/"
    },
    "id": "JQ0f8EuKJIcc",
    "outputId": "1baf163f-c898-4e66-cb49-94785c38ae42"
   },
   "outputs": [],
   "source": [
    "# counting the number of missing values per row\n",
    "num_missing = cars.isnull().sum(axis=1)\n",
    "num_missing.value_counts()"
   ]
  },
  {
   "cell_type": "code",
   "execution_count": null,
   "metadata": {
    "colab": {
     "base_uri": "https://localhost:8080/"
    },
    "id": "g9XyyScUJUz-",
    "outputId": "28368cab-f287-48e5-bf57-50a1d4f00a88"
   },
   "outputs": [],
   "source": [
    "#Investigating how many missing values per row are there for each variable\n",
    "for n in num_missing.value_counts().sort_index().index:\n",
    "    if n > 0:\n",
    "        print(\"*\" *30,f'\\nFor the rows with exactly {n} missing values, NAs are found in:')\n",
    "        n_miss_per_col = cars[num_missing == n].isnull().sum()\n",
    "        print(n_miss_per_col[n_miss_per_col > 0])\n",
    "        print('\\n\\n')"
   ]
  },
  {
   "cell_type": "markdown",
   "metadata": {
    "id": "-O2-WQT1QhH7"
   },
   "source": [
    "**This confirms that certain columns tend to be missing together or all nonmissing together. So will try to fill the missing values , as much as possible.**"
   ]
  },
  {
   "cell_type": "code",
   "execution_count": null,
   "metadata": {
    "colab": {
     "base_uri": "https://localhost:8080/",
     "height": 998
    },
    "id": "Z5MKy-HFJd3t",
    "outputId": "d6b689da-993a-4af2-b51f-afbdc8d5802e"
   },
   "outputs": [],
   "source": [
    "cars[num_missing == 2]"
   ]
  },
  {
   "cell_type": "code",
   "execution_count": null,
   "metadata": {
    "colab": {
     "base_uri": "https://localhost:8080/"
    },
    "id": "NrLCx6xuLXzz",
    "outputId": "3c8c109e-797f-499f-b479-3e55e47ff56b"
   },
   "outputs": [],
   "source": [
    "col = ['EngineFuelType', 'EngineHP', 'EngineCylinders']\n",
    "cars[col].isnull().sum()"
   ]
  },
  {
   "cell_type": "markdown",
   "metadata": {
    "id": "Za-IEvk6ROoU"
   },
   "source": [
    "**We can start filling missing values by grouping name and year and fill in missing values. with median.**"
   ]
  },
  {
   "cell_type": "code",
   "execution_count": null,
   "metadata": {
    "colab": {
     "base_uri": "https://localhost:8080/"
    },
    "id": "jy3G0Bw_UgrP",
    "outputId": "a1cba005-8163-4709-805b-b0812ac940b8"
   },
   "outputs": [],
   "source": [
    "cars.groupby(['Make', 'Model', 'Year'])['EngineHP'].median().head(30)"
   ]
  },
  {
   "cell_type": "code",
   "execution_count": null,
   "metadata": {
    "id": "xlm4q_j-qUao"
   },
   "outputs": [],
   "source": [
    "cars['EngineFuelType'] = cars.groupby(['Make', 'Model', 'Year'])['EngineFuelType'].apply(lambda x: x.fillna(x.mode().iloc[0]) if len(x.mode()) > 0 else x)\n",
    "cars['EngineHP'] = cars.groupby(['Make', 'Model', 'Year'])['EngineHP'].apply(lambda x: x.fillna(x.median()) if len(x) > 0 else x)\n",
    "cars['EngineCylinders'] = cars.groupby(['Make', 'Model', 'Year'])['EngineCylinders'].apply(lambda x: x.fillna(x.median()) if len(x) > 0 else x)"
   ]
  },
  {
   "cell_type": "code",
   "execution_count": null,
   "metadata": {
    "colab": {
     "base_uri": "https://localhost:8080/"
    },
    "id": "RUOrdgeKq0iU",
    "outputId": "cc1ad14f-0e71-4ab1-af92-be52fe26354b"
   },
   "outputs": [],
   "source": [
    "col = ['EngineFuelType', 'EngineHP', 'EngineCylinders']\n",
    "cars[col].isnull().sum()"
   ]
  },
  {
   "cell_type": "code",
   "execution_count": null,
   "metadata": {
    "colab": {
     "base_uri": "https://localhost:8080/"
    },
    "id": "gXYBzRSXrE7k",
    "outputId": "d5bdb7a6-d451-43de-f83f-e42cb958c9cb"
   },
   "outputs": [],
   "source": [
    "cars.groupby(['Make', 'Model', 'Year'])['EngineCylinders'].median().head(10)"
   ]
  },
  {
   "cell_type": "markdown",
   "metadata": {
    "id": "PH69Nwq_RaxQ"
   },
   "source": [
    "**As we can see most of the model have same engine Cylinders and instead of just applying median , grouping with model and year that should give me more granularity, and near to accurate Engine Cylinder values.**"
   ]
  },
  {
   "cell_type": "code",
   "execution_count": null,
   "metadata": {
    "id": "sxlj3-i6-zP7"
   },
   "outputs": [],
   "source": [
    "# Fill missing values in Engine Fuel Type, Engine HP, and Engine Cylinders columns\n",
    "# Use median to fill missing values since there are many outliers\n",
    "cars['Engine Fuel Type'] = cars['Engine Fuel Type'].fillna(cars['Engine Fuel Type'].mode()[0])\n",
    "cars['Engine HP'] = cars['Engine HP'].fillna(cars['Engine HP'].median())\n",
    "cars['Engine Cylinders'] = cars['Engine Cylinders'].fillna(cars['Engine Cylinders'].median())"
   ]
  },
  {
   "cell_type": "code",
   "execution_count": null,
   "metadata": {
    "colab": {
     "base_uri": "https://localhost:8080/"
    },
    "id": "o1wak2QMuVpn",
    "outputId": "033491e5-b966-4fdc-c0d8-55d081e998e8"
   },
   "outputs": [],
   "source": [
    "col = ['Engine Fuel Type', 'Engine HP', 'Engine Cylinders']\n",
    "cars[col].isnull().sum()"
   ]
  },
  {
   "cell_type": "markdown",
   "metadata": {
    "id": "0SBUqCE7SXf1"
   },
   "source": [
    "There are no missing values"
   ]
  },
  {
   "cell_type": "code",
   "execution_count": null,
   "metadata": {
    "id": "MHGf7FX7VGA8"
   },
   "outputs": [],
   "source": [
    "#cars.groupby(['Model','Year'])['Engine'].agg({'median','mean','max'}).sort_values(by='Model',ascending='True').head(10)"
   ]
  },
  {
   "cell_type": "code",
   "execution_count": null,
   "metadata": {
    "id": "gUJcaZcZxN7B"
   },
   "outputs": [],
   "source": [
    "from sklearn.preprocessing import LabelEncoder\n",
    "\n",
    "# create a label encoder object\n",
    "le = LabelEncoder()\n",
    "\n",
    "# encode the categorical variable 'Engine Fuel Type'\n",
    "cars['Engine Fuel Type Encoded'] = le.fit_transform(cars['Engine Fuel Type'])\n",
    "\n",
    "# group by Make, Model, and Year and calculate median, mean, and max of the encoded variable\n",
    "cars.groupby(['Make', 'Model', 'Year'])['Engine Fuel Type Encoded'].agg(['median', 'mean', 'max']).sort_values(by='Model', ascending=True).head(10)\n",
    "\n",
    "# drop the encoded variable if you don't need it anymore\n",
    "cars.drop('Engine Fuel Type Encoded', axis=1, inplace=True)\n"
   ]
  },
  {
   "cell_type": "code",
   "execution_count": null,
   "metadata": {
    "colab": {
     "base_uri": "https://localhost:8080/"
    },
    "id": "cu-zeWsJzoaj",
    "outputId": "1f4534e3-7327-4a2d-a706-984ddda00aa4"
   },
   "outputs": [],
   "source": [
    "cars['Number of Doors'].isnull().sum()"
   ]
  },
  {
   "cell_type": "code",
   "execution_count": null,
   "metadata": {
    "id": "leNd9xo_1fZj"
   },
   "outputs": [],
   "source": [
    "cars[\"Driven_Wheels\"] = cars[\"Driven_Wheels\"].astype(\"category\")\n",
    "#cars['Model'] =cars['Model'].astype(\"category\")"
   ]
  },
  {
   "cell_type": "code",
   "execution_count": null,
   "metadata": {
    "colab": {
     "base_uri": "https://localhost:8080/"
    },
    "id": "fqW_h1xE0sn9",
    "outputId": "47cbb3fa-1e35-4829-8f62-b26d7353d4e3"
   },
   "outputs": [],
   "source": [
    "cars.info()"
   ]
  },
  {
   "cell_type": "code",
   "execution_count": null,
   "metadata": {
    "id": "TPVqz_Ia1umx"
   },
   "outputs": [],
   "source": [
    "#For better granualarity grouping has there would be same car model present so filling with a median value brings it more near to real value\n",
    "#cars['MSRP']=cars.groupby(['Model', 'Year'])['MSRP'].apply(lambda x:x.fillna(x.median()))"
   ]
  },
  {
   "cell_type": "code",
   "execution_count": null,
   "metadata": {
    "colab": {
     "base_uri": "https://localhost:8080/"
    },
    "id": "8Uyw8ycZ189S",
    "outputId": "be9fd80b-e4ca-4b3b-886d-d4886065a6f0"
   },
   "outputs": [],
   "source": [
    "cars.MSRP.isnull().sum()"
   ]
  },
  {
   "cell_type": "code",
   "execution_count": null,
   "metadata": {
    "id": "inPOcQNQ2TyU"
   },
   "outputs": [],
   "source": [
    "cars['MSRP']=cars.groupby(['Make'])['MSRP'].apply(lambda x:x.fillna(x.median()))"
   ]
  },
  {
   "cell_type": "code",
   "execution_count": null,
   "metadata": {
    "colab": {
     "base_uri": "https://localhost:8080/"
    },
    "id": "Waa0Rkl82dAA",
    "outputId": "4406c00d-466a-49f9-86d3-87784b597438"
   },
   "outputs": [],
   "source": [
    "cars.MSRP.isnull().sum()"
   ]
  },
  {
   "cell_type": "code",
   "execution_count": null,
   "metadata": {
    "colab": {
     "base_uri": "https://localhost:8080/"
    },
    "id": "ycZqIYnz2pdM",
    "outputId": "31b1ba32-89d8-4d9d-f49e-707f17b03736"
   },
   "outputs": [],
   "source": [
    "cars.groupby(['Make'])['MSRP'].median().sort_values(ascending=False)"
   ]
  },
  {
   "cell_type": "code",
   "execution_count": null,
   "metadata": {
    "colab": {
     "base_uri": "https://localhost:8080/"
    },
    "id": "sKRd-UZ92wX7",
    "outputId": "4ebafbb6-52d9-4f1b-9d6b-0b8ddfdc8ea3"
   },
   "outputs": [],
   "source": [
    "cars.isnull().sum()"
   ]
  },
  {
   "cell_type": "code",
   "execution_count": null,
   "metadata": {
    "id": "CvRXTlrS3Cok"
   },
   "outputs": [],
   "source": [
    "cols1 = [\"Engine HP\",\"Engine Cylinders\"]\n",
    "\n",
    "for ii in cols1:\n",
    "    cars[ii] = cars[ii].fillna(cars[ii].median())"
   ]
  },
  {
   "cell_type": "code",
   "execution_count": null,
   "metadata": {
    "id": "aFiPa7rs4zKo"
   },
   "outputs": [],
   "source": [
    "#dropping remaining rows\n",
    "#cannot further fill this rows so dropping them\n",
    "\n",
    "cars.dropna(inplace=True,axis=0)"
   ]
  },
  {
   "cell_type": "code",
   "execution_count": null,
   "metadata": {
    "colab": {
     "base_uri": "https://localhost:8080/"
    },
    "id": "jhd-pFwf43WY",
    "outputId": "c970d092-b799-4ebc-931f-85f99a673d91"
   },
   "outputs": [],
   "source": [
    "cars.isnull().sum()"
   ]
  },
  {
   "cell_type": "code",
   "execution_count": null,
   "metadata": {
    "colab": {
     "base_uri": "https://localhost:8080/",
     "height": 354
    },
    "id": "9vlrnYrc46Ho",
    "outputId": "d30580a7-d827-4b35-ad63-b25bf454389d"
   },
   "outputs": [],
   "source": [
    "cars.head()"
   ]
  },
  {
   "cell_type": "code",
   "execution_count": null,
   "metadata": {
    "colab": {
     "base_uri": "https://localhost:8080/"
    },
    "id": "iEl6p8au4--9",
    "outputId": "eeccc177-b329-4095-8151-60835d587954"
   },
   "outputs": [],
   "source": [
    "cars.isnull().sum()"
   ]
  },
  {
   "cell_type": "code",
   "execution_count": null,
   "metadata": {
    "colab": {
     "base_uri": "https://localhost:8080/"
    },
    "id": "CW7bbbLt5Fp-",
    "outputId": "69d70f9e-33eb-4b38-a3fd-51d14da1218e"
   },
   "outputs": [],
   "source": [
    "df.shape "
   ]
  },
  {
   "cell_type": "markdown",
   "metadata": {
    "id": "15038dsaYR_d"
   },
   "source": [
    "Finally done with all missing values handling"
   ]
  },
  {
   "cell_type": "code",
   "execution_count": null,
   "metadata": {
    "colab": {
     "base_uri": "https://localhost:8080/",
     "height": 1000
    },
    "id": "8KHjS6FE5Mjg",
    "outputId": "51cd102d-ff0f-40a8-c85f-af81ac2db483"
   },
   "outputs": [],
   "source": [
    "cars.groupby(['Make'])['MSRP'].agg({'median','mean','max'})"
   ]
  },
  {
   "cell_type": "code",
   "execution_count": null,
   "metadata": {
    "id": "6t357FC05SFQ"
   },
   "outputs": [],
   "source": [
    "#using business knowledge to create class \n",
    "Low=['Buick'\n",
    "'Chevrolet'\n",
    "'Chrysler'\n",
    "'Dodge'\n",
    "'FIAT'\n",
    "'Ford'\n",
    "'GMC'\n",
    "'Honda'\n",
    "'Hyundai'\n",
    "'Kia'\n",
    "'Mazda'\n",
    "'Mitsubishi'\n",
    "'Nissan'\n",
    "'Oldsmobile'\n",
    "'Plymouth'\n",
    "'Pontiac'\n",
    "'Saab'\n",
    "'Scion'\n",
    "'Subaru'\n",
    "'Suzuki'\n",
    "'Toyota'\n",
    "'Volkswagen'\n",
    "'Volvo']\n",
    "\n",
    "High=['Audi',\n",
    "      'Mini Cooper',\n",
    "      'Bentley',\n",
    "      'Mercedes-Benz',\n",
    "      'Lamborghini',\n",
    "      'Volkswagen',\n",
    "      'Porsche',\n",
    "      'Land Rover',\n",
    "      'Nissan',\n",
    "      'Volvo',\n",
    "      'Jeep',\n",
    "      'Jaguar',\n",
    "      'BMW']# more than 30lakh"
   ]
  },
  {
   "cell_type": "code",
   "execution_count": null,
   "metadata": {
    "id": "jWrRGCdQ81gZ"
   },
   "outputs": [],
   "source": [
    "def classrange(x):\n",
    "    if x in Low:\n",
    "        return \"Low\"\n",
    "    elif x in High:\n",
    "        return \"High\"\n",
    "    else: \n",
    "        return x"
   ]
  },
  {
   "cell_type": "code",
   "execution_count": null,
   "metadata": {
    "id": "v01DIfkv89zj"
   },
   "outputs": [],
   "source": [
    "cars['Make_Class'] = cars['Make'].apply(lambda x: classrange(x))"
   ]
  },
  {
   "cell_type": "code",
   "execution_count": null,
   "metadata": {
    "colab": {
     "base_uri": "https://localhost:8080/"
    },
    "id": "wZlrNfwE9K72",
    "outputId": "497b368d-09b1-4bee-e73e-2941ca6bd194"
   },
   "outputs": [],
   "source": [
    "cars['Make_Class'].unique()"
   ]
  },
  {
   "cell_type": "code",
   "execution_count": null,
   "metadata": {
    "id": "DexnlKMs9K_E"
   },
   "outputs": [],
   "source": [
    "cars['Engine HP']=cars['Engine HP'].astype(int)\n",
    "cars['Make_Class']=cars[\"Make_Class\"].astype('category')"
   ]
  },
  {
   "cell_type": "code",
   "execution_count": null,
   "metadata": {
    "colab": {
     "base_uri": "https://localhost:8080/",
     "height": 786
    },
    "id": "UubE3qQ_-GQX",
    "outputId": "5009853b-703d-49c2-d483-376e4c8fa330"
   },
   "outputs": [],
   "source": [
    "plt.figure(figsize=(10,8))\n",
    "sns.heatmap(cars.corr(),annot=True ,cmap=\"YlGnBu\" )\n",
    "plt.show()"
   ]
  },
  {
   "cell_type": "markdown",
   "metadata": {
    "id": "iNsxxKTVYgBz"
   },
   "source": [
    "**Observations**\n",
    "\n",
    "Engine has strong positive correlation to Power [0.86].\n",
    "\n",
    "MSRP has positive correlation to Engine HP[0.66] as well Engine Cylinders [0.58].\n",
    "\n",
    "Age of car is negative correlated to MSRP, Popularity, Vehicle Size, Number of doors, city & Highway MPG.\n",
    "\n",
    "Price has negative correlation to age of car.\n",
    "\n",
    "city mpg doesnt impact MSRP."
   ]
  },
  {
   "cell_type": "code",
   "execution_count": null,
   "metadata": {
    "colab": {
     "base_uri": "https://localhost:8080/",
     "height": 1000
    },
    "id": "0kroGnXT-Svt",
    "outputId": "188cd21e-1aef-4e14-cae2-4d6ae6c35796"
   },
   "outputs": [],
   "source": [
    "sns.pairplot(data=cars , corner=True)\n",
    "plt.show()"
   ]
  },
  {
   "cell_type": "markdown",
   "metadata": {
    "id": "on2TAgy2a6Kp"
   },
   "source": [
    "**Observations**\n",
    "\n",
    "Same observation about correlation as seen in heatmap.\n",
    "\n",
    "Kilometer driven doesnot have impact on Price .\n",
    "\n",
    "As power increase mileage decrease.\n",
    "Car with recent make sell at higher prices.\n",
    "Engine and Power increase , price of the car seems to increase."
   ]
  },
  {
   "cell_type": "markdown",
   "metadata": {
    "id": "TGjh7nw4bSSu"
   },
   "source": [
    "#**Variables that are correlated with Price variable**\n",
    "\n"
   ]
  },
  {
   "cell_type": "markdown",
   "metadata": {
    "id": "31Db3-AKbqXX"
   },
   "source": []
  },
  {
   "cell_type": "code",
   "execution_count": null,
   "metadata": {
    "colab": {
     "base_uri": "https://localhost:8080/",
     "height": 663
    },
    "id": "IuY6C5mG-cYI",
    "outputId": "dc69f6e1-0acc-41f2-e3d8-26afa300e4be"
   },
   "outputs": [],
   "source": [
    "# understand relation ship of MSPR vs Popularity and Transmission Type\n",
    "plt.figure(figsize=(10,7))\n",
    "\n",
    "plt.title(\"MSRP VS Popularity based on Transmission Type\")\n",
    "sns.scatterplot(y='Popularity', x='MSRP', hue='Transmission Type', data=cars)"
   ]
  },
  {
   "cell_type": "code",
   "execution_count": null,
   "metadata": {
    "colab": {
     "base_uri": "https://localhost:8080/",
     "height": 663
    },
    "id": "mp7czJXLbADB",
    "outputId": "c887a786-6244-488c-aef3-56c7b0fb3531"
   },
   "outputs": [],
   "source": [
    " #understand relationship betweem MSRP and Transmission Type\n",
    "plt.figure(figsize=(10,7))\n",
    "plt.title(\"MSRP vs Year based on Transmission Type\")\n",
    "sns.scatterplot(y='Year', x='MSRP', hue='Transmission Type', data=cars)"
   ]
  },
  {
   "cell_type": "code",
   "execution_count": null,
   "metadata": {
    "colab": {
     "base_uri": "https://localhost:8080/",
     "height": 470
    },
    "id": "C1z8ID4Nfo_o",
    "outputId": "52539271-9fb7-4cc8-a0b1-f9d0fbd5eb66"
   },
   "outputs": [],
   "source": [
    "# Understand the relationships  between city mpg and MSRP\n",
    "sns.scatterplot(y='city mpg', x='MSRP', hue='Transmission Type', data=cars)"
   ]
  },
  {
   "cell_type": "code",
   "execution_count": null,
   "metadata": {
    "colab": {
     "base_uri": "https://localhost:8080/",
     "height": 470
    },
    "id": "zyY1s6-cf7zP",
    "outputId": "ec7fcd73-c301-43eb-b378-d05388b0f474"
   },
   "outputs": [],
   "source": [
    "# Understand the relationships  between highwat mpg and MSRP\n",
    "sns.scatterplot(y='highway MPG', x='MSRP', hue='Transmission Type', data=cars)"
   ]
  },
  {
   "cell_type": "code",
   "execution_count": null,
   "metadata": {
    "colab": {
     "base_uri": "https://localhost:8080/",
     "height": 663
    },
    "id": "X9KXrJEeO5VW",
    "outputId": "365f1f1e-1a5b-4f34-ec69-8d2294794f19"
   },
   "outputs": [],
   "source": [
    "# Impact of years on MSRP \n",
    "plt.figure(figsize=(10,7))\n",
    "plt.title(\"MSRP based on manufacturing Year of Make\")\n",
    "sns.lineplot(x='Year', y='MSRP',hue='Transmission Type',\n",
    "             data=cars)"
   ]
  },
  {
   "cell_type": "code",
   "execution_count": null,
   "metadata": {
    "colab": {
     "base_uri": "https://localhost:8080/",
     "height": 663
    },
    "id": "v1OOEH5RPL05",
    "outputId": "2425221e-7444-4fda-b17c-88aaf0addb78"
   },
   "outputs": [],
   "source": [
    "# Impact of years on MSRP \n",
    "plt.figure(figsize=(10,7))\n",
    "plt.title(\"MSRP Vs Year VS Popularity\")\n",
    "sns.lineplot(x='Year', y='MSRP',hue='Popularity',\n",
    "             data=cars)"
   ]
  },
  {
   "cell_type": "code",
   "execution_count": null,
   "metadata": {
    "colab": {
     "base_uri": "https://localhost:8080/",
     "height": 111
    },
    "id": "asDn_yNUZaYa",
    "outputId": "32fffe97-8bc8-4eee-cc12-2c6faea1b2d5"
   },
   "outputs": [],
   "source": [
    "cars[(cars[\"Vehicle Size\"]=='1') & (cars[\"Year\"].isin([2010]))].sort_values(by='MSRP',ascending =False)"
   ]
  },
  {
   "cell_type": "code",
   "execution_count": null,
   "metadata": {
    "colab": {
     "base_uri": "https://localhost:8080/",
     "height": 663
    },
    "id": "7pBhIgytPZ2D",
    "outputId": "20abf510-5b94-48f2-9ef7-b7aaaf92d3fc"
   },
   "outputs": [],
   "source": [
    "plt.figure(figsize=(10,7))\n",
    "plt.title(\"MSRP Vs Year VS Driven_Wheels\")\n",
    "sns.lineplot(x='Year', y='MSRP',hue='Driven_Wheels',\n",
    "             data=cars)"
   ]
  },
  {
   "cell_type": "markdown",
   "metadata": {
    "id": "MxuIF8bLb9WA"
   },
   "source": [
    "Need to check the reason for spike in MSRP for all wheel drive for in 2008."
   ]
  },
  {
   "cell_type": "code",
   "execution_count": null,
   "metadata": {
    "colab": {
     "base_uri": "https://localhost:8080/",
     "height": 1000
    },
    "id": "Ba_EyMrPWrQA",
    "outputId": "57e26534-887b-4aae-be22-69ea748d1ab7"
   },
   "outputs": [],
   "source": [
    "cars[(cars[\"Driven_Wheels\"]=='all wheel drive') & (cars[\"Year\"].isin([2008]))].sort_values(by='MSRP',ascending =False)"
   ]
  },
  {
   "cell_type": "markdown",
   "metadata": {
    "id": "vxNAiUpWdb-m"
   },
   "source": [
    "The observation is for The Porsche Panamera is expensive and luxury car so the data is valid."
   ]
  },
  {
   "cell_type": "code",
   "execution_count": null,
   "metadata": {
    "colab": {
     "base_uri": "https://localhost:8080/",
     "height": 300
    },
    "id": "o9a2JnOhaa4V",
    "outputId": "563c0bd9-70c2-4993-89fa-63f8fbf0bc10"
   },
   "outputs": [],
   "source": [
    "cars.describe()"
   ]
  },
  {
   "cell_type": "markdown",
   "metadata": {
    "id": "VQEA5F1NdmmE"
   },
   "source": [
    "MSRP Vs Year"
   ]
  },
  {
   "cell_type": "code",
   "execution_count": null,
   "metadata": {
    "colab": {
     "base_uri": "https://localhost:8080/",
     "height": 838
    },
    "id": "UN7KcYwkakVp",
    "outputId": "ea1684d9-1f4d-472e-d066-0313a80e3048"
   },
   "outputs": [],
   "source": [
    "#MSRP and Year \n",
    "plt.figure(figsize=(20,10))\n",
    "sns.set(font_scale=1)\n",
    "sns.barplot(x='Year', y='MSRP', data=cars)\n",
    "plt.grid()"
   ]
  },
  {
   "cell_type": "markdown",
   "metadata": {
    "id": "7HAFgLpVdqPs"
   },
   "source": [
    "MSRP Vs Engine Cylinders"
   ]
  },
  {
   "cell_type": "code",
   "execution_count": null,
   "metadata": {
    "colab": {
     "base_uri": "https://localhost:8080/",
     "height": 914
    },
    "id": "yilusHMTcmaV",
    "outputId": "9b998395-c1ac-4b1d-c693-136112f88926"
   },
   "outputs": [],
   "source": [
    "#MSRP and Engine Cylinders \n",
    "plt.figure(figsize=(15,10))\n",
    "sns.set(font_scale=2)\n",
    "sns.barplot(x='Engine Cylinders', y='MSRP', data=cars)\n",
    "plt.grid()"
   ]
  },
  {
   "cell_type": "markdown",
   "metadata": {
    "id": "AhZSp9Dfduj8"
   },
   "source": [
    "MSRP Vs Make"
   ]
  },
  {
   "cell_type": "code",
   "execution_count": null,
   "metadata": {
    "colab": {
     "base_uri": "https://localhost:8080/",
     "height": 1000
    },
    "id": "GDC7jfoAdlNx",
    "outputId": "4286372f-72e9-4c63-fd32-c2a70c25ba40"
   },
   "outputs": [],
   "source": [
    "#MSRP and make \n",
    "plt.figure(figsize=(20,15))\n",
    "sns.set(font_scale=1)\n",
    "sns.boxplot(x='MSRP', y='Make', data=cars)\n",
    "plt.grid()"
   ]
  },
  {
   "cell_type": "code",
   "execution_count": null,
   "metadata": {
    "colab": {
     "base_uri": "https://localhost:8080/",
     "height": 517
    },
    "id": "RkbaPiUWmOeE",
    "outputId": "664ef80d-50bf-4254-fc5f-aab8adab85e5"
   },
   "outputs": [],
   "source": [
    "sns.relplot(data=cars, y='MSRP',x='city mpg',hue='Transmission Type',aspect=1,height=5)"
   ]
  },
  {
   "cell_type": "code",
   "execution_count": null,
   "metadata": {
    "colab": {
     "base_uri": "https://localhost:8080/",
     "height": 441
    },
    "id": "riD0hhUkoeTh",
    "outputId": "ecb9fb86-3200-4ec5-fc91-121dbacfe0d5"
   },
   "outputs": [],
   "source": [
    "cars.head()"
   ]
  },
  {
   "cell_type": "code",
   "execution_count": null,
   "metadata": {
    "colab": {
     "base_uri": "https://localhost:8080/",
     "height": 494
    },
    "id": "CNrsoBXto7xI",
    "outputId": "f30ba76a-a74a-4f75-9e90-886f123807ce"
   },
   "outputs": [],
   "source": [
    "sns.relplot(data=cars, y='MSRP',x='Year',col='Number of Doors',hue='Transmission Type',aspect=1,height=5)\n"
   ]
  },
  {
   "cell_type": "code",
   "execution_count": null,
   "metadata": {
    "colab": {
     "base_uri": "https://localhost:8080/",
     "height": 341
    },
    "id": "Aaw4Vhu-oel5",
    "outputId": "ff3504d9-4294-47da-d743-00d974d5e5a9"
   },
   "outputs": [],
   "source": [
    "sns.relplot(data=cars, y='MSRP',x='Year',col='Engine Fuel Type',hue='Transmission Type',aspect=0.5,height=10)"
   ]
  },
  {
   "cell_type": "markdown",
   "metadata": {
    "id": "zdNvA23-d-Hk"
   },
   "source": [
    "#**Insights based on EDA**"
   ]
  },
  {
   "cell_type": "markdown",
   "metadata": {
    "id": "Gg3GEKdpeDLV"
   },
   "source": [
    "Expensive cars are in Coimbatore and Banglore.\n",
    "2 Seater cars are more expensive.\n",
    "Diesel Fuel type car are more expensive compared to other fuel type.\n",
    "As expected, Older model are sold cheaper compared to latest model\n",
    "Automatic transmission vehicle have a higher price than manual transmission vehicles.\n",
    "Vehicles with more engine capacity have higher prices.\n",
    "Price decreases as number of owner increases.\n",
    "Automatic transmission require high engine and power.\n",
    "Prices for Cars with fuel type as Deisel has increased with recent models\n",
    "Engine,Power, how old the car his, Mileage,Fuel type,location,Transmission effect the price."
   ]
  },
  {
   "cell_type": "code",
   "execution_count": null,
   "metadata": {
    "colab": {
     "base_uri": "https://localhost:8080/",
     "height": 1000
    },
    "id": "kFor58Tiphe5",
    "outputId": "679ec7d4-9996-4f1a-8644-9a1dad5b9529"
   },
   "outputs": [],
   "source": [
    "# check distrubution if skewed. If distrubution is skewed , it is advice to use log transform\n",
    "cols_to_log = cars.select_dtypes(include=np.number).columns.tolist()\n",
    "for colname in cols_to_log:\n",
    "    sns.distplot(cars[colname], kde=True)\n",
    "    plt.show()"
   ]
  },
  {
   "cell_type": "markdown",
   "metadata": {
    "id": "SqQo7zM0eRe3"
   },
   "source": [
    "Distrubtions are right skewed , using Log transform can help in normalization"
   ]
  },
  {
   "cell_type": "code",
   "execution_count": null,
   "metadata": {
    "id": "vkqj_anvpvT0"
   },
   "outputs": [],
   "source": [
    "#Distrubtions are right skewed , using Log transform can help in normalization\n",
    "def Perform_log_transform(df,col_log):\n",
    "    \"\"\"#Perform Log Transformation of dataframe , and list of columns \"\"\"\n",
    "    for colname in col_log:\n",
    "        df[colname + '_log'] = np.log(df[colname])\n",
    "    #df.drop(col_log, axis=1, inplace=True)\n",
    "    df.info()"
   ]
  },
  {
   "cell_type": "code",
   "execution_count": null,
   "metadata": {
    "colab": {
     "base_uri": "https://localhost:8080/"
    },
    "id": "wSTdl6WIp1o3",
    "outputId": "35f09cf3-de1b-4a62-f9a6-9f8231f454a1"
   },
   "outputs": [],
   "source": [
    "#This needs to be done before the data is split\n",
    "Perform_log_transform(cars,['Year','MSRP'])"
   ]
  },
  {
   "cell_type": "code",
   "execution_count": null,
   "metadata": {
    "id": "A8g-LjjiKE7p"
   },
   "outputs": [],
   "source": [
    "cars.drop(['Model','Year','Make',],axis=1,inplace=True)"
   ]
  },
  {
   "cell_type": "code",
   "execution_count": null,
   "metadata": {
    "colab": {
     "base_uri": "https://localhost:8080/"
    },
    "id": "qZJrSFQxvFIV",
    "outputId": "5b921d86-796b-4059-81c1-23115e367ef7"
   },
   "outputs": [],
   "source": [
    "cars.info()"
   ]
  },
  {
   "cell_type": "markdown",
   "metadata": {
    "id": "pO0vS5MwvI4D"
   },
   "source": [
    "#**Model Building**"
   ]
  },
  {
   "cell_type": "code",
   "execution_count": null,
   "metadata": {
    "id": "Bjzf89ZnZgdr"
   },
   "outputs": [],
   "source": [
    "X = cars.drop([\"MSRP\", \"MSRP_log\"], axis=1)\n",
    "y = cars[[\"MSRP_log\", \"MSRP\"]]"
   ]
  },
  {
   "cell_type": "markdown",
   "metadata": {
    "id": "KlP7Ydd2vfss"
   },
   "source": [
    "**Creating dummy variables**"
   ]
  },
  {
   "cell_type": "code",
   "execution_count": null,
   "metadata": {
    "id": "fqhFE9zFZgs8"
   },
   "outputs": [],
   "source": [
    "def encode_cat_vars(x):\n",
    "    x = pd.get_dummies(\n",
    "        x,\n",
    "        columns=x.select_dtypes(include=[\"object\", \"category\"]).columns.tolist(),\n",
    "        drop_first=True,\n",
    "    )\n",
    "    return x"
   ]
  },
  {
   "cell_type": "code",
   "execution_count": null,
   "metadata": {
    "colab": {
     "base_uri": "https://localhost:8080/",
     "height": 334
    },
    "id": "2qozdHelZyin",
    "outputId": "87bbd9d2-8abe-4767-bd8f-28b366d287e4"
   },
   "outputs": [],
   "source": [
    "#Dummy variable creation is done before spliting the data , so all the different categories are covered\n",
    "#create dummy variable\n",
    "X = encode_cat_vars(X)\n",
    "X.head()"
   ]
  },
  {
   "cell_type": "code",
   "execution_count": null,
   "metadata": {
    "colab": {
     "base_uri": "https://localhost:8080/"
    },
    "id": "IOEgCIliZ6AY",
    "outputId": "c25d6504-55a3-4519-bd03-6094b305b8c5"
   },
   "outputs": [],
   "source": [
    "X_train, X_test, y_train, y_test = train_test_split(X, y, test_size=0.3, random_state=42)\n",
    "X_train.reset_index()\n",
    "print(\"X_train:\",X_train.shape)\n",
    "print(\"X_test:\",X_test.shape)\n",
    "print(\"y_train:\",y_train.shape)\n",
    "print(\"y_test:\",y_test.shape)"
   ]
  },
  {
   "cell_type": "code",
   "execution_count": null,
   "metadata": {
    "id": "eGsN5XQkqubC"
   },
   "outputs": [],
   "source": [
    "# Statsmodel api does not add a constant by default. We need to add it explicitly.\n",
    "X_train = sm.add_constant(X_train)\n",
    "# Add constant to test data\n",
    "X_test = sm.add_constant(X_test)\n",
    "\n",
    "\n",
    "def build_ols_model(train):\n",
    "    # Create the model\n",
    "    olsmodel = sm.OLS(y_train[\"MSRP_log\"], train)\n",
    "    return olsmodel.fit()"
   ]
  },
  {
   "cell_type": "code",
   "execution_count": null,
   "metadata": {
    "colab": {
     "base_uri": "https://localhost:8080/"
    },
    "id": "m6Usuw7saLy7",
    "outputId": "71e32d62-4319-48b0-ae47-58f237dd2a2e"
   },
   "outputs": [],
   "source": [
    "# fit statmodel\n",
    "olsmodel1 = build_ols_model(X_train)\n",
    "print(olsmodel1.summary())"
   ]
  },
  {
   "cell_type": "markdown",
   "metadata": {
    "id": "uAfRsRmrenOZ"
   },
   "source": [
    "Both the R-squared and Adjusted R squared of our model are very high. This is a clear indication that we have been able to create a very good model that is able to explain variance in price of used cars for upto 92%\n",
    "\n",
    "The model is not an underfitting or overfitting model.\n",
    "\n",
    "To be able to make statistical inferences from our model, we will have to test that the linear regression assumptions are followed.\n",
    "\n",
    "Before we move on to assumption testing, we'll do a quick performance check on the test data."
   ]
  },
  {
   "cell_type": "code",
   "execution_count": null,
   "metadata": {
    "colab": {
     "base_uri": "https://localhost:8080/"
    },
    "id": "QgohQixIaMBb",
    "outputId": "11a503fe-a9a3-44ce-acdd-912587f8b905"
   },
   "outputs": [],
   "source": [
    "import math\n",
    "\n",
    "# RMSE\n",
    "def rmse(predictions, targets):\n",
    "    return np.sqrt(((targets - predictions) ** 2).mean())\n",
    "\n",
    "\n",
    "# MAPE\n",
    "def mape(predictions, targets):\n",
    "    return np.mean(np.abs((targets - predictions)) / targets) * 100\n",
    "\n",
    "\n",
    "# MAE\n",
    "def mae(predictions, targets):\n",
    "    return np.mean(np.abs((targets - predictions)))\n",
    "\n",
    "\n",
    "# Model Performance on test and train data\n",
    "def model_pref(olsmodel, x_train, x_test):\n",
    "\n",
    "    # Insample Prediction\n",
    "    y_pred_train_pricelog = olsmodel.predict(x_train)\n",
    "    y_pred_train_Price = y_pred_train_pricelog.apply(math.exp)\n",
    "    y_train_Price = y_train[\"MSRP\"]\n",
    "\n",
    "    # Prediction on test data\n",
    "    y_pred_test_pricelog = olsmodel.predict(x_test)\n",
    "    y_pred_test_Price = y_pred_test_pricelog.apply(math.exp)\n",
    "    y_test_Price = y_test[\"MSRP\"]\n",
    "\n",
    "    print(\n",
    "        pd.DataFrame(\n",
    "            {\n",
    "                \"Data\": [\"Train\", \"Test\"],\n",
    "                \"RMSE\": [\n",
    "                    rmse(y_pred_train_Price, y_train_Price),\n",
    "                    rmse(y_pred_test_Price, y_test_Price),\n",
    "                ],\n",
    "                \"MAE\": [\n",
    "                    mae(y_pred_train_Price, y_train_Price),\n",
    "                    mae(y_pred_test_Price, y_test_Price),\n",
    "                ],\n",
    "                \"MAPE\": [\n",
    "                    mape(y_pred_train_Price, y_train_Price),\n",
    "                    mape(y_pred_test_Price, y_test_Price),\n",
    "                ],\n",
    "            }\n",
    "        )\n",
    "    )\n",
    "\n",
    "\n",
    "# Checking model performance\n",
    "model_pref(olsmodel1, X_train, X_test)  # High Overfitting."
   ]
  },
  {
   "cell_type": "markdown",
   "metadata": {
    "id": "8WKhdCZifSIp"
   },
   "source": [
    "Root Mean Squared Error of train and test data is not different, indicating that our model is not overfitting the train data.\n",
    "\n",
    "Mean Absolute Error indicates that our current model is able to predict used cars prices within mean error of 9505 on test data.\n",
    "\n",
    "The units of both RMSE and MAE are same - Lakhs in this case. But RMSE is greater than MAE because it peanalises the outliers more.\n",
    "\n",
    "Mean Absolute Percentage Error is ~19% on the test data."
   ]
  },
  {
   "cell_type": "markdown",
   "metadata": {
    "id": "zV1phyMqfl43"
   },
   "source": [
    "#**Test Assumptions**"
   ]
  },
  {
   "cell_type": "markdown",
   "metadata": {
    "id": "ji8AOzlAvzrU"
   },
   "source": [
    "#Checking the Linear Regression Assumptions\n",
    "#1,No Multicollinearity\n",
    "#2,Mean of residuals should be 0\n",
    "#3,No Heteroscedasticity\n",
    "#4,Linearity of variables\n",
    "#5,Normality of error terms"
   ]
  },
  {
   "cell_type": "markdown",
   "metadata": {
    "id": "2eH97YSywK2A"
   },
   "source": [
    "#Checking Assumption 1: No Multicollinearity\n",
    "We will use VIF, to check if there is multicollinearity in the data.\n",
    "\n",
    "Features having a VIF score >5 will be dropped/treated till all the features have a VIF score <5"
   ]
  },
  {
   "cell_type": "code",
   "execution_count": null,
   "metadata": {
    "id": "1-U21nHdcNMy"
   },
   "outputs": [],
   "source": [
    "from statsmodels.stats.outliers_influence import variance_inflation_factor\n",
    "\n",
    "\n",
    "def checking_vif(train):\n",
    "    vif = pd.DataFrame()\n",
    "    vif[\"feature\"] = train.columns\n",
    "\n",
    "    # calculating VIF for each feature\n",
    "    vif[\"VIF\"] = [\n",
    "        variance_inflation_factor(train.values, i) for i in range(len(train.columns))\n",
    "    ]\n",
    "    return vif"
   ]
  },
  {
   "cell_type": "code",
   "execution_count": null,
   "metadata": {
    "colab": {
     "base_uri": "https://localhost:8080/"
    },
    "id": "ESt50hdKcGAr",
    "outputId": "be630cb5-6aa8-4007-8d39-ed34051090eb"
   },
   "outputs": [],
   "source": [
    "# Check VIF\n",
    "print(checking_vif(X_train))"
   ]
  },
  {
   "cell_type": "markdown",
   "metadata": {
    "id": "9ISPRjq5f6BI"
   },
   "source": []
  },
  {
   "cell_type": "code",
   "execution_count": null,
   "metadata": {
    "id": "1BSAunXJfrAB"
   },
   "outputs": [],
   "source": [
    "\n",
    "# Split the data into training and testing sets\n",
    "from sklearn.model_selection import train_test_split\n",
    "X = cars.drop(['MSRP'], axis=1)\n",
    "y = cars['MSRP']\n",
    "X_train, X_test, y_train, y_test = train_test_split(X, y, test_size=0.2, random_state=42)"
   ]
  },
  {
   "cell_type": "code",
   "execution_count": null,
   "metadata": {
    "colab": {
     "base_uri": "https://localhost:8080/"
    },
    "id": "MIVGI4FXeTSQ",
    "outputId": "58da5e90-806f-4c94-ba3e-a43ddb4827eb"
   },
   "outputs": [],
   "source": [
    "\n",
    "# Preprocessing\n",
    "X = df[[ 'Year', 'Make', 'Model','city mpg']]\n",
    "X = pd.get_dummies(X, drop_first=True)\n",
    "y = df['MSRP']\n",
    "\n",
    "# Splitting the data into train and test sets\n",
    "np.random.seed(0)\n",
    "msk = np.random.rand(len(df)) < 0.8\n",
    "X_train = X[msk]\n",
    "y_train = y[msk]\n",
    "X_test = X[~msk]\n",
    "y_test = y[~msk]\n",
    "\n",
    "# Function to build OLS model\n",
    "def build_ols_model(X):\n",
    "    X = sm.add_constant(X)\n",
    "    model = sm.OLS(y_train, X)\n",
    "    results = model.fit()\n",
    "    return results\n",
    "\n",
    "# Function to check model performance\n",
    "def model_perf(model, X_train, X_test):\n",
    "    y_train_pred = model.predict(sm.add_constant(X_train))\n",
    "    train_rmse = np.sqrt(np.mean((y_train - y_train_pred)**2))\n",
    "    print('Train RMSE:', train_rmse)\n",
    "\n",
    "    y_test_pred = model.predict(sm.add_constant(X_test))\n",
    "    test_rmse = np.sqrt(np.mean((y_test - y_test_pred)**2))\n",
    "    print('Test RMSE:', test_rmse)\n",
    "\n",
    "# Build OLS model\n",
    "X_train1 = X_train.drop(['city mpg'], axis=1)\n",
    "X_test1 = X_test.drop(['city mpg'], axis=1)\n",
    "olsmodel2 = build_ols_model(X_train1)\n",
    "\n",
    "# Print model summary\n",
    "print(olsmodel2.summary())\n",
    "\n",
    "# Check model performance\n",
    "model_perf(olsmodel2, X_train1, X_test1)\n",
    "\n"
   ]
  },
  {
   "cell_type": "code",
   "execution_count": null,
   "metadata": {
    "id": "eJxlf2XBC8PG"
   },
   "outputs": [],
   "source": [
    "def model_perf(model, X_train, X_test):\n",
    "    y_train_pred = model.predict(sm.add_constant(X_train))\n",
    "    train_rmse = np.sqrt(np.mean((y_train - y_train_pred)**2))\n",
    "\n",
    "    y_test_pred = model.predict(sm.add_constant(X_test))\n",
    "    test_rmse = np.sqrt(np.mean((y_test - y_test_pred)**2))\n",
    "\n",
    "    return train_rmse, test_rmse"
   ]
  },
  {
   "cell_type": "code",
   "execution_count": null,
   "metadata": {
    "colab": {
     "base_uri": "https://localhost:8080/"
    },
    "id": "FirL3KSEC-uJ",
    "outputId": "a7bc4f34-987f-4ad7-ccc4-40e3d1187054"
   },
   "outputs": [],
   "source": [
    "train_rmse, test_rmse = model_perf(olsmodel2, X_train1, X_test1)\n",
    "print('Train RMSE:', train_rmse)\n",
    "print('Test RMSE:', test_rmse)"
   ]
  },
  {
   "cell_type": "code",
   "execution_count": null,
   "metadata": {
    "colab": {
     "base_uri": "https://localhost:8080/",
     "height": 0
    },
    "id": "uuPQSjq2Dgze",
    "outputId": "11071d2d-9fdf-4a7e-ac4a-52841f988d05"
   },
   "outputs": [],
   "source": [
    "\"\"\"\n",
    "from sklearn.linear_model import Ridge\n",
    "\n",
    "# Splitting the data into train and test sets\n",
    "np.random.seed(0)\n",
    "msk = np.random.rand(len(df)) < 0.8\n",
    "X_train = X[msk]\n",
    "y_train = y[msk]\n",
    "X_test = X[~msk]\n",
    "y_test = y[~msk]\n",
    "\n",
    "# Fit Ridge regression model\n",
    "ridge = Ridge(alpha=0.1) # increase alpha for stronger regularization\n",
    "ridge.fit(X_train, y_train)\n",
    "\n",
    "# Print model coefficients\n",
    "print('Model Coefficients:', ridge.coef_)\n",
    "\n",
    "# Check model performance\n",
    "train_rmse = np.sqrt(np.mean((y_train - ridge.predict(X_train))**2))\n",
    "print('Train RMSE:', train_rmse)\n",
    "\n",
    "test_rmse = np.sqrt(np.mean((y_test - ridge.predict(X_test))**2))\n",
    "print('Test RMSE:', test_rmse)\n",
    "\"\"\""
   ]
  },
  {
   "cell_type": "markdown",
   "metadata": {
    "id": "vlvlq7tGEame"
   },
   "source": [
    "Trail Code Start"
   ]
  },
  {
   "cell_type": "markdown",
   "metadata": {
    "id": "kHCnrPnlEeF0"
   },
   "source": [
    "#Checking Assumption 2: Mean of residuals should be 0"
   ]
  },
  {
   "cell_type": "code",
   "execution_count": null,
   "metadata": {
    "colab": {
     "base_uri": "https://localhost:8080/"
    },
    "id": "6dLTcsRVdENM",
    "outputId": "bbe9d243-0923-4d98-d680-9f27e3349c2a"
   },
   "outputs": [],
   "source": [
    "#Checking Assumption 2: Mean of residuals should be 0\n",
    "residuals = olsmodel2.resid\n",
    "np.mean(residuals)"
   ]
  },
  {
   "cell_type": "markdown",
   "metadata": {
    "id": "SKQyh7PPhJd8"
   },
   "source": [
    "#**Checking Assumption 3: No Heteroscedasticity Homoscedacity**"
   ]
  },
  {
   "cell_type": "markdown",
   "metadata": {
    "id": "rAzeG71UhCkI"
   },
   "source": [
    "**Homoscedacity **- If the residuals are symmetrically distributed across the regression line , then the data is said to homoscedastic.\n",
    "\n",
    "**Heteroscedasticity**- - If the residuals are not symmetrically distributed across the regression line, then the data is said to be heteroscedastic. In this case the residuals can form a funnel shape or any other non symmetrical shape.\n",
    "\n",
    "We'll use Goldfeldquandt Test to test the following hypothesis\n",
    "\n",
    "**Null hypothesis** : Residuals are homoscedastic Alternate hypothesis : Residuals have hetroscedasticity\n",
    "\n",
    "alpha = 0.05"
   ]
  },
  {
   "cell_type": "code",
   "execution_count": null,
   "metadata": {
    "colab": {
     "base_uri": "https://localhost:8080/"
    },
    "id": "dz00NOKRddl_",
    "outputId": "acc81b4d-0872-4bb4-af2a-eacb7097a93d"
   },
   "outputs": [],
   "source": [
    "import statsmodels.stats.api as sms\n",
    "from statsmodels.compat import lzip\n",
    "\n",
    "name = [\"F statistic\", \"p-value\"]\n",
    "test = sms.het_goldfeldquandt(residuals, X_train1)\n",
    "lzip(name, test)"
   ]
  },
  {
   "cell_type": "markdown",
   "metadata": {
    "id": "Wd8wQGeuhlMs"
   },
   "source": [
    "Since p-value > 0.05 we cannot reject the Null Hypothesis that the residuals are homoscedastic.\n",
    "\n",
    "Assumptions 3 is also satisfied by our olsmodel2"
   ]
  },
  {
   "cell_type": "markdown",
   "metadata": {
    "id": "M93HD_n8hqxa"
   },
   "source": [
    "#**Checking Assumption 4: Linearity of variables**"
   ]
  },
  {
   "cell_type": "markdown",
   "metadata": {
    "id": "So87pKydhwC3"
   },
   "source": [
    "Predictor variables must have a linear relation with the dependent variable.\n",
    "\n",
    "To test the assumption, we'll plot residuals and fitted values on a plot and ensure that residuals do not form a strong pattern. They should be randomly and uniformly scattered on the x axis."
   ]
  },
  {
   "cell_type": "code",
   "execution_count": null,
   "metadata": {
    "colab": {
     "base_uri": "https://localhost:8080/",
     "height": 480
    },
    "id": "YhecgaWWdjOg",
    "outputId": "6ac06199-83c9-4c98-d8e5-d924a79b6b2a"
   },
   "outputs": [],
   "source": [
    "# predicted values\n",
    "fitted = olsmodel2.fittedvalues\n",
    "\n",
    "# sns.set_style(\"whitegrid\")\n",
    "sns.residplot(x=fitted, y=residuals, color=\"purple\", lowess=True)\n",
    "plt.xlabel(\"Fitted Values\")\n",
    "plt.ylabel(\"Residual\")\n",
    "plt.title(\"Residual PLOT\")\n",
    "plt.show()"
   ]
  },
  {
   "cell_type": "markdown",
   "metadata": {
    "id": "Qqo4F354iE8F"
   },
   "source": [
    "Assumptions 4 is satisfied by our olsmodel2. There is no pattern in the residual vs fitted values plot."
   ]
  },
  {
   "cell_type": "markdown",
   "metadata": {
    "id": "WguiAFR1iMbK"
   },
   "source": [
    "#**Checking Assumption 5: Normality of error terms**"
   ]
  },
  {
   "cell_type": "markdown",
   "metadata": {
    "id": "kvDsYJWGiWnR"
   },
   "source": [
    "The residuals should be normally distributed."
   ]
  },
  {
   "cell_type": "code",
   "execution_count": null,
   "metadata": {
    "colab": {
     "base_uri": "https://localhost:8080/",
     "height": 451
    },
    "id": "cWUphokFAb1Q",
    "outputId": "8302a091-df69-4174-ce34-b9ef843d0ff5"
   },
   "outputs": [],
   "source": [
    "sns.distplot(residuals)"
   ]
  },
  {
   "cell_type": "code",
   "execution_count": null,
   "metadata": {
    "colab": {
     "base_uri": "https://localhost:8080/",
     "height": 480
    },
    "id": "V10C68yoAf9z",
    "outputId": "e747f933-c2f8-463d-e85e-636be1670a56"
   },
   "outputs": [],
   "source": [
    "# Plot q-q plot of residuals\n",
    "import pylab\n",
    "import scipy.stats as stats\n",
    "\n",
    "stats.probplot(residuals, dist=\"norm\", plot=pylab)\n",
    "plt.show()"
   ]
  },
  {
   "cell_type": "markdown",
   "metadata": {
    "id": "6KuYuFJLifRU"
   },
   "source": [
    "The residuals have a close to normal distribution. Assumption 5 is also satisfied. We should further investigate these values in the tails where we have made huge residual errors.\n",
    "\n",
    "Now that we have seen that olsmodel2 follows all the linear regression assumptions. Let us use this model to draw inferences."
   ]
  },
  {
   "cell_type": "code",
   "execution_count": null,
   "metadata": {
    "colab": {
     "base_uri": "https://localhost:8080/"
    },
    "id": "oITdE1-vAj9K",
    "outputId": "4c0601fe-e927-4e72-d2c5-db268145b6ad"
   },
   "outputs": [],
   "source": [
    "print(olsmodel2.summary())"
   ]
  },
  {
   "cell_type": "code",
   "execution_count": null,
   "metadata": {
    "colab": {
     "base_uri": "https://localhost:8080/"
    },
    "id": "OkT4Z6dttAMn",
    "outputId": "3e685b05-90c3-4e29-99f1-7ed229675762"
   },
   "outputs": [],
   "source": [
    "# Create a list of predictor variables and the outcome variable\n",
    "predictors = ['Engine HP', 'Engine Cylinders', 'Number of Doors', 'highway MPG', 'city mpg', 'Ageofcar']\n",
    "outcome = 'MSRP'\n",
    "\n",
    "# Fit a linear regression model using OLS\n",
    "model = sm.OLS(cars[outcome], sm.add_constant(cars[predictors])).fit()\n",
    "\n",
    "# Extract key performance metrics\n",
    "rsquared = model.rsquared\n",
    "coefficients = model.params\n",
    "pvalues = model.pvalues\n",
    "std_errors = model.bse\n",
    "fstat = model.fvalue\n",
    "f_pvalue = model.f_pvalue\n",
    "\n",
    "# Print the results\n",
    "print(\"R-squared value: \", rsquared)\n",
    "print(\"Coefficients: \", coefficients)\n",
    "print(\"P-values: \", pvalues)\n",
    "print(\"Standard errors of coefficients: \", std_errors)\n",
    "print(\"F-statistic: \", fstat)\n",
    "print(\"P-value for F-statistic: \", f_pvalue)\n"
   ]
  },
  {
   "cell_type": "code",
   "execution_count": null,
   "metadata": {
    "colab": {
     "base_uri": "https://localhost:8080/"
    },
    "id": "qgdnOhzDtM8M",
    "outputId": "2b92bb03-df00-4c87-dcef-219ad8b30c57"
   },
   "outputs": [],
   "source": [
    "import statsmodels.api as sm\n",
    "\n",
    "# Add constant to independent variables\n",
    "X = sm.add_constant(X)\n",
    "\n",
    "# Fit the linear regression model\n",
    "model = sm.OLS(y, X).fit()\n",
    "\n",
    "# Get the summary of the model\n",
    "print(model.summary())\n",
    "\n",
    "# Get R-squared value\n",
    "print(\"R-squared value: \", model.rsquared)\n",
    "\n",
    "# Get coefficients\n",
    "print(\"Coefficients: \", model.params)\n",
    "\n",
    "# Get p-values\n",
    "print(\"P-values: \", model.pvalues)\n",
    "\n",
    "# Get standard errors of coefficients\n",
    "print(\"Standard errors of coefficients: \", model.bse)\n",
    "\n",
    "# Get F-statistic and p-value for F-statistic\n",
    "print(\"F-statistic: \", model.fvalue)\n",
    "print(\"P-value for F-statistic: \", model.f_pvalue)"
   ]
  },
  {
   "cell_type": "markdown",
   "metadata": {
    "id": "dgOgey0BtyuT"
   },
   "source": [
    "The given OLS regression model has a high R-squared value of 0.981, indicating that a large proportion of the variance in the dependent variable (MSRP) is explained by the independent variables. The adjusted R-squared value of 0.979 also indicates that the independent variables included in the model are a good fit for the dependent variable.\n",
    "\n",
    "The F-statistic of 611.5 is significant with a p-value of 0.00, indicating that the model as a whole is significant.\n",
    "\n",
    "There are a total of 926 degrees of freedom for the model, with 10987 degrees of freedom for the residuals.\n",
    "\n",
    "The log-likelihood of the model is -1.2441e+05, indicating the goodness of fit of the model.\n",
    "\n",
    "The AIC and BIC values of 2.507e+05 and 2.575e+05 respectively, are measures of the quality of the model's fit relative to the number of independent variables.\n",
    "\n",
    "Since the covariance type is non-robust, the model may be sensitive to outliers in the data."
   ]
  },
  {
   "cell_type": "code",
   "execution_count": null,
   "metadata": {
    "colab": {
     "base_uri": "https://localhost:8080/"
    },
    "id": "WQu6hsiJCFWb",
    "outputId": "02fd4245-1656-42c2-8ff4-31f4f6151d71"
   },
   "outputs": [],
   "source": [
    "# Assuming X_train1 and X_test1 are already defined\n",
    "print(\"Shape of X_train1:\", X_train1.shape)\n",
    "print(\"Shape of X_test1:\", X_test1.shape)\n",
    "\n",
    "# If using NumPy arrays, the output might look like this:\n",
    "# Shape of X_train1: (5000, 10)\n",
    "# Shape of X_test1: (1000, 10)\n",
    "\n",
    "# If using Pandas DataFrames, the output might look like this:\n",
    "# Shape of X_train1: (5000, 10)\n",
    "# Shape of X_test1: (1000, 10)\n"
   ]
  },
  {
   "cell_type": "markdown",
   "metadata": {
    "id": "XPCa5MhTimsV"
   },
   "source": [
    "#**Observations from the model**"
   ]
  },
  {
   "cell_type": "markdown",
   "metadata": {
    "id": "mZKMormkisFB"
   },
   "source": [
    "1, It is important to note here that the predicted values are log(price) and therefore coefficients have to be converted accordingly to understand their influence in price.\n",
    "\n",
    "2, With our linear regression model we have been able to capture ~98 variation in our data.\n",
    "\n",
    "3, The model indicates that the most significant predictors of price of used cars are -\n",
    "\n",
    "Age of the car\n",
    "\n",
    "Number of doors in the car\n",
    "\n",
    "Engine HP\n",
    "\n",
    "city mpg\n",
    "\n",
    "Highway MPG\n",
    "\n",
    "Popularity\n",
    "\n",
    "Engine Cylinders\n",
    "\n",
    "Engine Fuel Type\n",
    "\n",
    "Driven_wheels\n",
    "\n",
    "Transmission Type\n",
    "\n",
    "Market Category\n",
    "\n",
    "Vehicle Size\n",
    "\n",
    "Vehicle Style\n",
    "\n",
    "\n",
    "\n",
    "4, Newer cars sell for higher prices. 1 unit increase in age of the car leads to [ exp(0.1123) = 1.12 Lakh ] decrease in the price of the vehicle, when everything else is constant.\n",
    "\n",
    "As the number of seats increases, the price of the car increases - exp(0.05) = 1.05 Lakhs\n",
    "\n",
    "Mileage is inversely correlated with Price. Generally, high mileage cars are the lower budget cars.\n",
    "\n",
    "Kilometers Driven have a negative relationship with the price which is intuitive. A car that has been driven more will have more wear and tear and hence sell at a lower price, everything else being 0.\n",
    "\n",
    "The categorical variables are a little hard to interpret. But it can be seen that all the car_category variables in the dataset have a negative relationship with the Price and the magnitude of this negative relationship decrease as the brand category moves to lower brands."
   ]
  }
 ],
 "metadata": {
  "colab": {
   "provenance": []
  },
  "kernelspec": {
   "display_name": "Python 3",
   "language": "python",
   "name": "python3"
  },
  "language_info": {
   "codemirror_mode": {
    "name": "ipython",
    "version": 3
   },
   "file_extension": ".py",
   "mimetype": "text/x-python",
   "name": "python",
   "nbconvert_exporter": "python",
   "pygments_lexer": "ipython3",
   "version": "3.12.1"
  }
 },
 "nbformat": 4,
 "nbformat_minor": 4
}
